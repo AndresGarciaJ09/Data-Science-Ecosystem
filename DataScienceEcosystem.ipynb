{
 "cells": [
  {
   "cell_type": "markdown",
   "id": "0382962c-bc66-4b59-a6df-0b11a9280aec",
   "metadata": {},
   "source": [
    "# Data Science Tools and Ecosystem"
   ]
  },
  {
   "cell_type": "markdown",
   "id": "5b64ff54-d8e9-433b-9923-ead36b4517a2",
   "metadata": {},
   "source": [
    "In this notebook, Data Science Tools and Ecosystem are summarized."
   ]
  },
  {
   "cell_type": "markdown",
   "id": "b09ee21c-3bbe-492e-892e-2d552054df15",
   "metadata": {},
   "source": [
    "Objectives:\n",
    "* Create and organize a Jupyter Notebook.\n",
    "* Use markdown and code cells.\n",
    "* Perform arithmetic operations in Python..\n",
    "* Create a Jupyter notebook.\n",
    "\n",
    "\n",
    "\n",
    "\n",
    "\n",
    "List popular programming languages and libraries in Data Science.\n",
    "\n",
    "Utilize open-source tools for Data Science development."
   ]
  },
  {
   "cell_type": "markdown",
   "id": "52d42946-4abe-44aa-a9ac-5ed804231796",
   "metadata": {},
   "source": [
    "Some of the popular languages that Data Scientists use are:\n",
    "1. Python\n",
    "2. R\n",
    "3. C++\n",
    "4. SQL\n",
    "5. Julia\n",
    "6. Java"
   ]
  },
  {
   "cell_type": "markdown",
   "id": "7bcaca26-00d0-4a7d-b551-1f47fb1888a7",
   "metadata": {},
   "source": [
    "Some of the commonly used libraries used by Data Scientists include:\n",
    "1. Pandas\n",
    "2. NumPy\n",
    "3. Seaborn\n",
    "4. Matplotib\n",
    "5. Scikit-Learn"
   ]
  },
  {
   "cell_type": "markdown",
   "id": "487ab75b-4980-491c-9807-8f7e1c243d50",
   "metadata": {},
   "source": [
    "| Data Science Tools             |\n",
    "|--------------------------------|\n",
    "| Jupyter IDE                    |\n",
    "| RStudio                        |\n",
    "| Visual Studio Code             |\n"
   ]
  },
  {
   "cell_type": "markdown",
   "id": "ca2c89e1-e25c-4200-bf98-0dea2b5c50ce",
   "metadata": {},
   "source": [
    "### Below are a few examples of evaluating arithmetic expressions in Python"
   ]
  },
  {
   "cell_type": "code",
   "execution_count": 19,
   "id": "37f1688b-f542-48fc-9aaa-26345594f613",
   "metadata": {},
   "outputs": [
    {
     "data": {
      "text/plain": [
       "17"
      ]
     },
     "execution_count": 19,
     "metadata": {},
     "output_type": "execute_result"
    }
   ],
   "source": [
    "# This a simple arithmetic expression to mutiply then add integers\n",
    "(3*4)+5"
   ]
  },
  {
   "cell_type": "code",
   "execution_count": 43,
   "id": "11df9db4-5b59-4b81-ab55-f6fd2c14433d",
   "metadata": {},
   "outputs": [
    {
     "name": "stdout",
     "output_type": "stream",
     "text": [
      "If we convert 200 minutes into hours, the result would be 3 hours and 20 minutes.\n"
     ]
    }
   ],
   "source": [
    "# This will convert 200 minutes to hours by diving by 60\n",
    "minutes=200\n",
    "hours=minutes//60\n",
    "\n",
    "# This will calculate the remaining minutes \n",
    "remaining_minutes=minutes%60\n",
    "\n",
    "print(f\"If we convert {minutes} minutes into hours, the result would be {hours} hours and {remaining_minutes} minutes.\")"
   ]
  },
  {
   "cell_type": "markdown",
   "id": "a1c6890c-de1d-4659-9a85-77695f1076c6",
   "metadata": {},
   "source": [
    "## Autor \n",
    "Andres Felipe Garcia Jimenez"
   ]
  }
 ],
 "metadata": {
  "kernelspec": {
   "display_name": "Python 3 (ipykernel)",
   "language": "python",
   "name": "python3"
  },
  "language_info": {
   "codemirror_mode": {
    "name": "ipython",
    "version": 3
   },
   "file_extension": ".py",
   "mimetype": "text/x-python",
   "name": "python",
   "nbconvert_exporter": "python",
   "pygments_lexer": "ipython3",
   "version": "3.12.8"
  }
 },
 "nbformat": 4,
 "nbformat_minor": 5
}
